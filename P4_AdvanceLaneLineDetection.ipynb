{
 "cells": [
  {
   "cell_type": "markdown",
   "metadata": {},
   "source": [
    "## Advanced Lane Finding Project\n",
    "\n",
    "The goals / steps of this project are the following:\n",
    "\n",
    "* Compute the camera calibration matrix and distortion coefficients given a set of chessboard images.\n",
    "* Apply a distortion correction to raw images.\n",
    "* Use color transforms, gradients, etc., to create a thresholded binary image.\n",
    "* Apply a perspective transform to rectify binary image (\"birds-eye view\").\n",
    "* Detect lane pixels and fit to find the lane boundary.\n",
    "* Determine the curvature of the lane and vehicle position with respect to center.\n",
    "* Warp the detected lane boundaries back onto the original image.\n",
    "* Output visual display of the lane boundaries and numerical estimation of lane curvature and vehicle position.\n",
    "\n",
    "---\n",
    "## First, I'll compute the camera calibration using chessboard images"
   ]
  },
  {
   "cell_type": "code",
   "execution_count": 1,
   "metadata": {},
   "outputs": [],
   "source": [
    "import glob\n",
    "import cv2\n",
    "import numpy as np\n",
    "import matplotlib.pyplot as plt\n",
    "%matplotlib inline"
   ]
  },
  {
   "cell_type": "code",
   "execution_count": 2,
   "metadata": {},
   "outputs": [],
   "source": [
    "# Variables for camera calibration using chessboard images\n",
    "\n",
    "CHESSBOARD_SHAPE = (9,6)\n",
    "CHESSBOARD_IMAGES = glob.glob(\"./camera_cal/*.jpg\")"
   ]
  },
  {
   "cell_type": "code",
   "execution_count": 4,
   "metadata": {},
   "outputs": [
    {
     "name": "stdout",
     "output_type": "stream",
     "text": [
      "Unable to find corners for ./camera_cal\\calibration1.jpg\n",
      "Writing Image: ./output_images/chessboardCorners/calibration10.jpg\n",
      "Writing Image: ./output_images/chessboardCorners/calibration11.jpg\n",
      "Writing Image: ./output_images/chessboardCorners/calibration12.jpg\n",
      "Writing Image: ./output_images/chessboardCorners/calibration13.jpg\n",
      "Writing Image: ./output_images/chessboardCorners/calibration14.jpg\n",
      "Writing Image: ./output_images/chessboardCorners/calibration15.jpg\n",
      "Writing Image: ./output_images/chessboardCorners/calibration16.jpg\n",
      "Writing Image: ./output_images/chessboardCorners/calibration17.jpg\n",
      "Writing Image: ./output_images/chessboardCorners/calibration18.jpg\n",
      "Writing Image: ./output_images/chessboardCorners/calibration19.jpg\n",
      "Writing Image: ./output_images/chessboardCorners/calibration2.jpg\n",
      "Writing Image: ./output_images/chessboardCorners/calibration20.jpg\n",
      "Writing Image: ./output_images/chessboardCorners/calibration3.jpg\n",
      "Unable to find corners for ./camera_cal\\calibration4.jpg\n",
      "Unable to find corners for ./camera_cal\\calibration5.jpg\n",
      "Writing Image: ./output_images/chessboardCorners/calibration6.jpg\n",
      "Writing Image: ./output_images/chessboardCorners/calibration7.jpg\n",
      "Writing Image: ./output_images/chessboardCorners/calibration8.jpg\n",
      "Writing Image: ./output_images/chessboardCorners/calibration9.jpg\n"
     ]
    }
   ],
   "source": [
    "# Drawing and saving the chessboard images with corners detected\n",
    "\n",
    "objp = np.zeros((CHESSBOARD_SHAPE[0]*CHESSBOARD_SHAPE[1],3), np.float32)\n",
    "objp[:,:2] = np.mgrid[0:CHESSBOARD_SHAPE[0], 0:CHESSBOARD_SHAPE[1]].T.reshape(-1,2)\n",
    "\n",
    "obj_points = []\n",
    "img_points = []\n",
    "\n",
    "corner_not_found_images = []\n",
    "for image in CHESSBOARD_IMAGES:\n",
    "    img = cv2.imread(image)\n",
    "    gray = cv2.cvtColor(img, cv2.COLOR_BGR2GRAY)\n",
    "    ret, corners = cv2.findChessboardCorners(gray, CHESSBOARD_SHAPE, None)\n",
    "    if ret:\n",
    "        obj_points.append(objp)\n",
    "        img_points.append(corners.reshape((CHESSBOARD_SHAPE[0]*CHESSBOARD_SHAPE[1],2)))\n",
    "        \n",
    "        cv2.drawChessboardCorners(img, CHESSBOARD_SHAPE, corners, ret)\n",
    "        imageName = image.split(\"\\\\\")[-1]\n",
    "        print(\"Writing Image: ./output_images/chessboardCorners/\"+imageName)\n",
    "        cv2.imwrite(\"./output_images/chessboardCorners/\"+imageName, img)\n",
    "    else:\n",
    "        print(\"Unable to find corners for \" + image)\n",
    "        corner_not_found_images.append(image)"
   ]
  },
  {
   "cell_type": "code",
   "execution_count": 50,
   "metadata": {},
   "outputs": [
    {
     "name": "stdout",
     "output_type": "stream",
     "text": [
      "Writing Image: ./chessboardCorners/calibration5.jpg\n"
     ]
    }
   ],
   "source": [
    "#Image 1 got with : CHESSBOARD_SHAPE = (9,5)\n",
    "#Image 4 got with : CHESSBOARD_SHAPE = (6,5)\n",
    "#Image 5 got with : CHESSBOARD_SHAPE = (7,6)\n",
    "\n",
    "CHESSBOARD_SHAPE = (7,6)\n",
    "image = \"./camera_cal\\calibration5.jpg\"\n",
    "img = cv2.imread(image)\n",
    "gray = cv2.cvtColor(img, cv2.COLOR_BGR2GRAY)\n",
    "ret, corners = cv2.findChessboardCorners(gray, CHESSBOARD_SHAPE, None)\n",
    "if ret:\n",
    "    cv2.drawChessboardCorners(img, CHESSBOARD_SHAPE, corners, ret)\n",
    "    imageName = image.split(\"\\\\\")[-1]\n",
    "    print(\"Writing Image: ./output_images/chessboardCorners/\"+imageName)\n",
    "    cv2.imwrite(\"./output_images/chessboardCorners/\"+imageName, img)\n",
    "else:\n",
    "    print(\"Unable to find corners for \" + image)\n",
    "    "
   ]
  },
  {
   "cell_type": "code",
   "execution_count": 3,
   "metadata": {},
   "outputs": [
    {
     "ename": "NameError",
     "evalue": "name 'obj_points' is not defined",
     "output_type": "error",
     "traceback": [
      "\u001b[1;31m---------------------------------------------------------------------------\u001b[0m",
      "\u001b[1;31mNameError\u001b[0m                                 Traceback (most recent call last)",
      "\u001b[1;32m<ipython-input-3-4195f50b1e40>\u001b[0m in \u001b[0;36m<module>\u001b[1;34m()\u001b[0m\n\u001b[0;32m      1\u001b[0m \u001b[1;31m# Calibrating the camera based on the picked object and image points\u001b[0m\u001b[1;33m\u001b[0m\u001b[1;33m\u001b[0m\u001b[0m\n\u001b[0;32m      2\u001b[0m \u001b[1;33m\u001b[0m\u001b[0m\n\u001b[1;32m----> 3\u001b[1;33m \u001b[0mret\u001b[0m\u001b[1;33m,\u001b[0m \u001b[0mmtx\u001b[0m\u001b[1;33m,\u001b[0m \u001b[0mdist\u001b[0m\u001b[1;33m,\u001b[0m \u001b[0mrvecs\u001b[0m\u001b[1;33m,\u001b[0m \u001b[0mtvecs\u001b[0m \u001b[1;33m=\u001b[0m \u001b[0mcv2\u001b[0m\u001b[1;33m.\u001b[0m\u001b[0mcalibrateCamera\u001b[0m\u001b[1;33m(\u001b[0m\u001b[0mobj_points\u001b[0m\u001b[1;33m,\u001b[0m \u001b[0mimg_points\u001b[0m\u001b[1;33m,\u001b[0m \u001b[0mgray\u001b[0m\u001b[1;33m.\u001b[0m\u001b[0mshape\u001b[0m\u001b[1;33m[\u001b[0m\u001b[1;33m:\u001b[0m\u001b[1;33m:\u001b[0m\u001b[1;33m-\u001b[0m\u001b[1;36m1\u001b[0m\u001b[1;33m]\u001b[0m\u001b[1;33m,\u001b[0m \u001b[1;32mNone\u001b[0m\u001b[1;33m,\u001b[0m \u001b[1;32mNone\u001b[0m\u001b[1;33m)\u001b[0m\u001b[1;33m\u001b[0m\u001b[0m\n\u001b[0m",
      "\u001b[1;31mNameError\u001b[0m: name 'obj_points' is not defined"
     ]
    }
   ],
   "source": [
    "# Calibrating the camera based on the picked object and image points\n",
    "\n",
    "ret, mtx, dist, rvecs, tvecs = cv2.calibrateCamera(obj_points, img_points, gray.shape[::-1], None, None)"
   ]
  },
  {
   "cell_type": "code",
   "execution_count": null,
   "metadata": {},
   "outputs": [],
   "source": [
    "# Showing an undistorted image\n",
    "\n",
    "img = cv2.imread('./camera_cal/calibration4.jpg')\n",
    "dst = cv2.undistort(img, mtx, dist, None, mtx)\n",
    "f, (ax1, ax2) = plt.subplots(1, 2, figsize=(20,10))\n",
    "ax1.imshow(img)\n",
    "ax1.set_title('Original Image', fontsize=30)\n",
    "ax2.imshow(dst)\n",
    "ax2.set_title('Undistorted Image', fontsize=30)"
   ]
  },
  {
   "cell_type": "code",
   "execution_count": 8,
   "metadata": {},
   "outputs": [
    {
     "name": "stdout",
     "output_type": "stream",
     "text": [
      "Writing Image: ./output_images/undistortedImages/calibration1.jpg\n",
      "Writing Image: ./output_images/undistortedImages/calibration10.jpg\n",
      "Writing Image: ./output_images/undistortedImages/calibration11.jpg\n",
      "Writing Image: ./output_images/undistortedImages/calibration12.jpg\n",
      "Writing Image: ./output_images/undistortedImages/calibration13.jpg\n",
      "Writing Image: ./output_images/undistortedImages/calibration14.jpg\n",
      "Writing Image: ./output_images/undistortedImages/calibration15.jpg\n",
      "Writing Image: ./output_images/undistortedImages/calibration16.jpg\n",
      "Writing Image: ./output_images/undistortedImages/calibration17.jpg\n",
      "Writing Image: ./output_images/undistortedImages/calibration18.jpg\n",
      "Writing Image: ./output_images/undistortedImages/calibration19.jpg\n",
      "Writing Image: ./output_images/undistortedImages/calibration2.jpg\n",
      "Writing Image: ./output_images/undistortedImages/calibration20.jpg\n",
      "Writing Image: ./output_images/undistortedImages/calibration3.jpg\n",
      "Writing Image: ./output_images/undistortedImages/calibration4.jpg\n",
      "Writing Image: ./output_images/undistortedImages/calibration5.jpg\n",
      "Writing Image: ./output_images/undistortedImages/calibration6.jpg\n",
      "Writing Image: ./output_images/undistortedImages/calibration7.jpg\n",
      "Writing Image: ./output_images/undistortedImages/calibration8.jpg\n",
      "Writing Image: ./output_images/undistortedImages/calibration9.jpg\n"
     ]
    }
   ],
   "source": [
    "# Saving all images with undistortion \n",
    "for image in CHESSBOARD_IMAGES:\n",
    "    img = cv2.imread(image)\n",
    "    dst = cv2.undistort(img, mtx, dist, None, mtx)\n",
    "    imageName = image.split(\"\\\\\")[-1]\n",
    "    print(\"Writing Image: ./output_images/undistortedImages/\"+imageName)\n",
    "    cv2.imwrite(\"./output_images/undistortedImages/\"+imageName, dst)"
   ]
  },
  {
   "cell_type": "code",
   "execution_count": 63,
   "metadata": {},
   "outputs": [
    {
     "name": "stdout",
     "output_type": "stream",
     "text": [
      "Writing Image: ./output_images/perspectiveTranformedImages/calibration1.jpg\n",
      "Writing Image: ./output_images/perspectiveTranformedImages/calibration10.jpg\n",
      "Writing Image: ./output_images/perspectiveTranformedImages/calibration11.jpg\n",
      "Writing Image: ./output_images/perspectiveTranformedImages/calibration12.jpg\n",
      "Writing Image: ./output_images/perspectiveTranformedImages/calibration13.jpg\n",
      "Writing Image: ./output_images/perspectiveTranformedImages/calibration14.jpg\n",
      "Writing Image: ./output_images/perspectiveTranformedImages/calibration15.jpg\n",
      "Writing Image: ./output_images/perspectiveTranformedImages/calibration16.jpg\n",
      "Writing Image: ./output_images/perspectiveTranformedImages/calibration17.jpg\n",
      "Writing Image: ./output_images/perspectiveTranformedImages/calibration18.jpg\n",
      "Writing Image: ./output_images/perspectiveTranformedImages/calibration19.jpg\n",
      "Writing Image: ./output_images/perspectiveTranformedImages/calibration2.jpg\n",
      "Writing Image: ./output_images/perspectiveTranformedImages/calibration20.jpg\n",
      "Writing Image: ./output_images/perspectiveTranformedImages/calibration3.jpg\n",
      "Writing Image: ./output_images/perspectiveTranformedImages/calibration4.jpg\n",
      "Writing Image: ./output_images/perspectiveTranformedImages/calibration5.jpg\n",
      "Writing Image: ./output_images/perspectiveTranformedImages/calibration6.jpg\n",
      "Writing Image: ./output_images/perspectiveTranformedImages/calibration7.jpg\n",
      "Writing Image: ./output_images/perspectiveTranformedImages/calibration8.jpg\n",
      "Writing Image: ./output_images/perspectiveTranformedImages/calibration9.jpg\n"
     ]
    }
   ],
   "source": [
    "# Checking for Perpective transform\n",
    "CHESSBOARD_SHAPE = (9,6)\n",
    "images = glob.glob(\"./output_images/undistortedImages/*.jpg\")\n",
    "for image in images:\n",
    "    img = cv2.imread(image)\n",
    "    img = cv2.cvtColor(img, cv2.COLOR_BGR2GRAY)\n",
    "    \n",
    "    ret, corners = cv2.findChessboardCorners(gray, CHESSBOARD_SHAPE)\n",
    "    if ret:\n",
    "        offset = 100\n",
    "        img_size = (img.shape[1], img.shape[0])\n",
    "        src = np.float32([corners[0], corners[CHESSBOARD_SHAPE[0]-1], corners[-1], corners[-CHESSBOARD_SHAPE[0]]])\n",
    "        dst = np.float32([[offset, offset], [img_size[0]-offset, offset], \n",
    "                                     [img_size[0]-offset, img_size[1]-offset], \n",
    "                                     [offset, img_size[1]-offset]])\n",
    "        M = cv2.getPerspectiveTransform(src, dst)\n",
    "        warped = cv2.warpPerspective(img, M, img_size)\n",
    "        imageName = image.split(\"\\\\\")[-1]\n",
    "        print(\"Writing Image: ./output_images/perspectiveTranformedImages/\"+imageName)\n",
    "        cv2.imwrite(\"./output_images/perspectiveTranformedImages/\"+imageName, warped)"
   ]
  },
  {
   "cell_type": "markdown",
   "metadata": {},
   "source": [
    "## Second, I'll apply distortion correction to raw images"
   ]
  },
  {
   "cell_type": "code",
   "execution_count": 9,
   "metadata": {},
   "outputs": [
    {
     "name": "stdout",
     "output_type": "stream",
     "text": [
      "Writing Image: ./output_images/undistortedTestImages/straight_lines1.jpg\n",
      "Writing Image: ./output_images/undistortedTestImages/straight_lines2.jpg\n",
      "Writing Image: ./output_images/undistortedTestImages/test1.jpg\n",
      "Writing Image: ./output_images/undistortedTestImages/test2.jpg\n",
      "Writing Image: ./output_images/undistortedTestImages/test3.jpg\n",
      "Writing Image: ./output_images/undistortedTestImages/test4.jpg\n",
      "Writing Image: ./output_images/undistortedTestImages/test5.jpg\n",
      "Writing Image: ./output_images/undistortedTestImages/test6.jpg\n"
     ]
    }
   ],
   "source": [
    "testImages = glob.glob(\"./test_images/*.jpg\")\n",
    "for image in testImages:\n",
    "    img = cv2.imread(image)\n",
    "    dst = cv2.undistort(img, mtx, dist, None, mtx)\n",
    "    imageName = image.split(\"\\\\\")[-1]\n",
    "    print(\"Writing Image: ./output_images/undistortedTestImages/\"+imageName)\n",
    "    cv2.imwrite(\"./output_images/undistortedTestImages/\"+imageName, dst)"
   ]
  },
  {
   "cell_type": "markdown",
   "metadata": {},
   "source": [
    "## Third, I'll apply color and gradient binary image"
   ]
  },
  {
   "cell_type": "code",
   "execution_count": 5,
   "metadata": {},
   "outputs": [
    {
     "data": {
      "text/plain": [
       "<matplotlib.image.AxesImage at 0x293b3c5cb70>"
      ]
     },
     "execution_count": 5,
     "metadata": {},
     "output_type": "execute_result"
    },
    {
     "data": {
      "image/png": "[encoded data removed]",
      "text/plain": [
       "<matplotlib.figure.Figure at 0x293bc4a4dd8>"
      ]
     },
     "metadata": {},
     "output_type": "display_data"
    }
   ],
   "source": [
    "# Convert to HLS color space and separate the S channel\n",
    "# Note: img is the undistorted image\n",
    "img = cv2.imread(\"./output_images/undistortedTestImages/straight_lines1.jpg\")\n",
    "hls = cv2.cvtColor(img, cv2.COLOR_RGB2HLS)\n",
    "s_channel = hls[:,:,2]\n",
    "\n",
    "# Grayscale image\n",
    "# NOTE: we already saw that standard grayscaling lost color information for the lane lines\n",
    "# Explore gradients in other colors spaces / color channels to see what might work better\n",
    "gray = cv2.cvtColor(img, cv2.COLOR_RGB2GRAY)\n",
    "\n",
    "# Sobel x\n",
    "sobelx = cv2.Sobel(gray, cv2.CV_64F, 1, 0) # Take the derivative in x\n",
    "abs_sobelx = np.absolute(sobelx) # Absolute x derivative to accentuate lines away from horizontal\n",
    "scaled_sobel = np.uint8(255*abs_sobelx/np.max(abs_sobelx))\n",
    "\n",
    "# Threshold x gradient\n",
    "thresh_min = 20\n",
    "thresh_max = 100\n",
    "sxbinary = np.zeros_like(scaled_sobel)\n",
    "sxbinary[(scaled_sobel >= thresh_min) & (scaled_sobel <= thresh_max)] = 1\n",
    "\n",
    "# Threshold color channel\n",
    "s_thresh_min = 170\n",
    "s_thresh_max = 255\n",
    "s_binary = np.zeros_like(s_channel)\n",
    "s_binary[(s_channel >= s_thresh_min) & (s_channel <= s_thresh_max)] = 1\n",
    "\n",
    "# Stack each channel to view their individual contributions in green and blue respectively\n",
    "# This returns a stack of the two binary images, whose components you can see as different colors\n",
    "color_binary = np.dstack(( np.zeros_like(sxbinary), sxbinary, s_binary)) * 255\n",
    "\n",
    "# Combine the two binary thresholds\n",
    "combined_binary = np.zeros_like(sxbinary)\n",
    "combined_binary[(s_binary == 1) | (sxbinary == 1)] = 1\n",
    "\n",
    "# Plotting thresholded images\n",
    "f, (ax1, ax2) = plt.subplots(1, 2, figsize=(20,10))\n",
    "ax1.set_title('Stacked thresholds')\n",
    "ax1.imshow(color_binary)\n",
    "\n",
    "ax2.set_title('Combined S channel and gradient thresholds')\n",
    "ax2.imshow(combined_binary, cmap='gray')\n"
   ]
  },
  {
   "cell_type": "markdown",
   "metadata": {},
   "source": [
    "## Persective Transform on the Images"
   ]
  },
  {
   "cell_type": "code",
   "execution_count": 32,
   "metadata": {},
   "outputs": [
    {
     "data": {
      "image/png": "[encoded data removed]",
      "text/plain": [
       "<matplotlib.figure.Figure at 0x293c13e7828>"
      ]
     },
     "metadata": {},
     "output_type": "display_data"
    }
   ],
   "source": [
    "def perspectiveTransform(img, srcPoints, destPoints):\n",
    "    M = cv2.getPerspectiveTransform(srcPoints, destPoints)\n",
    "    h, w = img.shape[:2]\n",
    "    return cv2.warpPerspective(img, M, (w,h))\n",
    "\n",
    "#img = cv2.imread(\"./output_images/undistortedTestImages/test6.jpg\")\n",
    "#img = cv2.cvtColor(img, cv2.COLOR_BGR2RGB)\n",
    "img = combined_binary\n",
    "h, w = img.shape[:2]\n",
    "src = np.float32([[w, h-10],        # br\n",
    "                      [0, h-10],    # bl\n",
    "                      [546, 460],   # tl\n",
    "                      [732, 460]])  # tr\n",
    "\n",
    "offset = 10\n",
    "dst = np.float32([[w-offset, h-offset],           # br\n",
    "                      [offset, h-offset],       # bl\n",
    "                      [offset, offset],       # tl\n",
    "                      [w-offset, offset]])      # tr\n",
    "warped = perspectiveTransform(img, src, dst)\n",
    "plt.imshow(warped, cmap='gray')\n",
    "plt.show()"
   ]
  },
  {
   "cell_type": "markdown",
   "metadata": {},
   "source": [
    "## Detect Lane Pixels and and fit to find the lane boundary."
   ]
  },
  {
   "cell_type": "code",
   "execution_count": 33,
   "metadata": {},
   "outputs": [
    {
     "name": "stdout",
     "output_type": "stream",
     "text": [
      "...\n"
     ]
    }
   ],
   "source": [
    "# Define method to fit polynomial to binary image with lines extracted, using sliding window\n",
    "def sliding_window_polyfit(img):\n",
    "    # Take a histogram of the bottom half of the image\n",
    "    histogram = np.sum(img[img.shape[0]//2:,:], axis=0)\n",
    "    # Find the peak of the left and right halves of the histogram\n",
    "    # These will be the starting point for the left and right lines\n",
    "    midpoint = np.int(histogram.shape[0]//2)\n",
    "    quarter_point = np.int(midpoint//2)\n",
    "    # Previously the left/right base was the max of the left/right half of the histogram\n",
    "    # this changes it so that only a quarter of the histogram (directly to the left/right) is considered\n",
    "    leftx_base = np.argmax(histogram[quarter_point:midpoint]) + quarter_point\n",
    "    rightx_base = np.argmax(histogram[midpoint:(midpoint+quarter_point)]) + midpoint\n",
    "    \n",
    "    #print('base pts:', leftx_base, rightx_base)\n",
    "\n",
    "    # Choose the number of sliding windows\n",
    "    nwindows = 10\n",
    "    # Set height of windows\n",
    "    window_height = np.int(img.shape[0]/nwindows)\n",
    "    # Identify the x and y positions of all nonzero pixels in the image\n",
    "    nonzero = img.nonzero()\n",
    "    nonzeroy = np.array(nonzero[0])\n",
    "    nonzerox = np.array(nonzero[1])\n",
    "    # Current positions to be updated for each window\n",
    "    leftx_current = leftx_base\n",
    "    rightx_current = rightx_base\n",
    "    # Set the width of the windows +/- margin\n",
    "    margin = 80\n",
    "    # Set minimum number of pixels found to recenter window\n",
    "    minpix = 40\n",
    "    # Create empty lists to receive left and right lane pixel indices\n",
    "    left_lane_inds = []\n",
    "    right_lane_inds = []\n",
    "    # Rectangle data for visualization\n",
    "    rectangle_data = []\n",
    "\n",
    "    # Step through the windows one by one\n",
    "    for window in range(nwindows):\n",
    "        # Identify window boundaries in x and y (and right and left)\n",
    "        win_y_low = img.shape[0] - (window+1)*window_height\n",
    "        win_y_high = img.shape[0] - window*window_height\n",
    "        win_xleft_low = leftx_current - margin\n",
    "        win_xleft_high = leftx_current + margin\n",
    "        win_xright_low = rightx_current - margin\n",
    "        win_xright_high = rightx_current + margin\n",
    "        rectangle_data.append((win_y_low, win_y_high, win_xleft_low, win_xleft_high, win_xright_low, win_xright_high))\n",
    "        # Identify the nonzero pixels in x and y within the window\n",
    "        good_left_inds = ((nonzeroy >= win_y_low) & (nonzeroy < win_y_high) & (nonzerox >= win_xleft_low) & (nonzerox < win_xleft_high)).nonzero()[0]\n",
    "        good_right_inds = ((nonzeroy >= win_y_low) & (nonzeroy < win_y_high) & (nonzerox >= win_xright_low) & (nonzerox < win_xright_high)).nonzero()[0]\n",
    "        # Append these indices to the lists\n",
    "        left_lane_inds.append(good_left_inds)\n",
    "        right_lane_inds.append(good_right_inds)\n",
    "        # If you found > minpix pixels, recenter next window on their mean position\n",
    "        if len(good_left_inds) > minpix:\n",
    "            leftx_current = np.int(np.mean(nonzerox[good_left_inds]))\n",
    "        if len(good_right_inds) > minpix:        \n",
    "            rightx_current = np.int(np.mean(nonzerox[good_right_inds]))\n",
    "\n",
    "    # Concatenate the arrays of indices\n",
    "    left_lane_inds = np.concatenate(left_lane_inds)\n",
    "    right_lane_inds = np.concatenate(right_lane_inds)\n",
    "\n",
    "    # Extract left and right line pixel positions\n",
    "    leftx = nonzerox[left_lane_inds]\n",
    "    lefty = nonzeroy[left_lane_inds] \n",
    "    rightx = nonzerox[right_lane_inds]\n",
    "    righty = nonzeroy[right_lane_inds] \n",
    "\n",
    "    left_fit, right_fit = (None, None)\n",
    "    # Fit a second order polynomial to each\n",
    "    if len(leftx) != 0:\n",
    "        left_fit = np.polyfit(lefty, leftx, 2)\n",
    "    if len(rightx) != 0:\n",
    "        right_fit = np.polyfit(righty, rightx, 2)\n",
    "    \n",
    "    visualization_data = (rectangle_data, histogram)\n",
    "    \n",
    "    return left_fit, right_fit, left_lane_inds, right_lane_inds, visualization_data\n",
    "print('...')"
   ]
  },
  {
   "cell_type": "code",
   "execution_count": 34,
   "metadata": {},
   "outputs": [
    {
     "name": "stdout",
     "output_type": "stream",
     "text": [
      "...\n"
     ]
    },
    {
     "data": {
      "image/png": "[encoded data removed]",
      "text/plain": [
       "<matplotlib.figure.Figure at 0x293c0468860>"
      ]
     },
     "metadata": {},
     "output_type": "display_data"
    }
   ],
   "source": [
    "# visualize the result on example image\n",
    "#img = cv2.cvtColor(img, cv2.COLOR_BGR2RGB)\n",
    "exampleImg = cv2.imread(\"./output_images/undistortedTestImages/test6.jpg\")\n",
    "exampleImg = cv2.cvtColor(exampleImg, cv2.COLOR_BGR2RGB)\n",
    "#exampleImg_bin, Minv = pipeline(exampleImg)\n",
    "\n",
    "exampleImg_bin = war\n",
    "left_fit, right_fit, left_lane_inds, right_lane_inds, visualization_data = sliding_window_polyfit(exampleImg_bin)\n",
    "\n",
    "h = exampleImg.shape[0]\n",
    "left_fit_x_int = left_fit[0]*h**2 + left_fit[1]*h + left_fit[2]\n",
    "right_fit_x_int = right_fit[0]*h**2 + right_fit[1]*h + right_fit[2]\n",
    "#print('fit x-intercepts:', left_fit_x_int, right_fit_x_int)\n",
    "\n",
    "rectangles = visualization_data[0]\n",
    "histogram = visualization_data[1]\n",
    "\n",
    "# Create an output image to draw on and  visualize the result\n",
    "out_img = np.uint8(np.dstack((exampleImg_bin, exampleImg_bin, exampleImg_bin))*255)\n",
    "# Generate x and y values for plotting\n",
    "ploty = np.linspace(0, exampleImg_bin.shape[0]-1, exampleImg_bin.shape[0] )\n",
    "left_fitx = left_fit[0]*ploty**2 + left_fit[1]*ploty + left_fit[2]\n",
    "right_fitx = right_fit[0]*ploty**2 + right_fit[1]*ploty + right_fit[2]\n",
    "for rect in rectangles:\n",
    "# Draw the windows on the visualization image\n",
    "    cv2.rectangle(out_img,(rect[2],rect[0]),(rect[3],rect[1]),(0,255,0), 2) \n",
    "    cv2.rectangle(out_img,(rect[4],rect[0]),(rect[5],rect[1]),(0,255,0), 2) \n",
    "# Identify the x and y positions of all nonzero pixels in the image\n",
    "nonzero = exampleImg_bin.nonzero()\n",
    "nonzeroy = np.array(nonzero[0])\n",
    "nonzerox = np.array(nonzero[1])\n",
    "out_img[nonzeroy[left_lane_inds], nonzerox[left_lane_inds]] = [255, 0, 0]\n",
    "out_img[nonzeroy[right_lane_inds], nonzerox[right_lane_inds]] = [100, 200, 255]\n",
    "plt.imshow(out_img)\n",
    "plt.plot(left_fitx, ploty, color='yellow')\n",
    "plt.plot(right_fitx, ploty, color='yellow')\n",
    "plt.xlim(0, 1280)\n",
    "plt.ylim(720, 0)\n",
    "\n",
    "print('...')"
   ]
  },
  {
   "cell_type": "code",
   "execution_count": null,
   "metadata": {},
   "outputs": [],
   "source": []
  }
 ],
 "metadata": {
  "kernelspec": {
   "display_name": "Python 3",
   "language": "python",
   "name": "python3"
  },
  "language_info": {
   "codemirror_mode": {
    "name": "ipython",
    "version": 3
   },
   "file_extension": ".py",
   "mimetype": "text/x-python",
   "name": "python",
   "nbconvert_exporter": "python",
   "pygments_lexer": "ipython3",
   "version": "3.6.4"
  }
 },
 "nbformat": 4,
 "nbformat_minor": 2
}
